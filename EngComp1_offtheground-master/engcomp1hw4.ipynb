{
 "cells": [
  {
   "cell_type": "markdown",
   "metadata": {
    "collapsed": true
   },
   "source": [
    "Before you turn in this homework, make sure everything runs as expected. First, **restart the kernel** (in the menubar, select Kernel$\\rightarrow$Restart) and then **run all cells** (in the menubar, select Cell$\\rightarrow$Run All).\n",
    "\n",
    "Make sure you execute every single code cell, in order, filling with your solutions in any place that says `YOUR CODE HERE`, and always DELETE the line that says:\n",
    "\n",
    "```python\n",
    "raise NotImplementedError()\n",
    "```\n",
    "The purpose of this line is to tell you if you forgot to answer a question (it will throw an error if the line is there)\n",
    "\n",
    "**IMPORTANT**: DO NOT DELETE ANY CELL.\n",
    "\n",
    "Fill your name below:"
   ]
  },
  {
   "cell_type": "code",
   "execution_count": 1,
   "metadata": {},
   "outputs": [],
   "source": [
    "NAME = \"Mika Curran\""
   ]
  },
  {
   "cell_type": "markdown",
   "metadata": {},
   "source": [
    "## Exercise 1"
   ]
  },
  {
   "cell_type": "markdown",
   "metadata": {},
   "source": [
    "Lists, slicing and for statements. Given the list named `pizzas`"
   ]
  },
  {
   "cell_type": "code",
   "execution_count": 2,
   "metadata": {
    "deletable": false,
    "editable": false,
    "nbgrader": {
     "cell_type": "code",
     "checksum": "9c39815c016814d6044bff1295314db3",
     "grade": false,
     "grade_id": "cell-46c95200dc6d2f7b",
     "locked": true,
     "schema_version": 3,
     "solution": false,
     "task": false
    }
   },
   "outputs": [],
   "source": [
    "pizzas = ['cheese', 'pepperoni', 'margherita', 'hawaiian', 'italian sausage', 'green peppers and onions']"
   ]
  },
  {
   "cell_type": "markdown",
   "metadata": {},
   "source": [
    "a) Using `for` statements and the method of lists called `append`, append in the list `lengths` the length of each element in the `pizzas` list, and print the list lengths."
   ]
  },
  {
   "cell_type": "code",
   "execution_count": 15,
   "metadata": {
    "deletable": false,
    "nbgrader": {
     "cell_type": "code",
     "checksum": "f540167299555a822b039b40e778a3e7",
     "grade": false,
     "grade_id": "cell-862bcf62fe2bf3fc",
     "locked": false,
     "schema_version": 3,
     "solution": true,
     "task": false
    }
   },
   "outputs": [
    {
     "name": "stdout",
     "output_type": "stream",
     "text": [
      "[6, 9, 10, 8, 15, 24]\n"
     ]
    }
   ],
   "source": [
    "lengths = []\n",
    "\n",
    "# YOUR CODE HERE\n",
    "for i, pizzas in enumerate(pizzas):\n",
    "    lengths.append(len(pizzas))\n",
    "\n",
    "print(lengths)\n",
    "\n",
    "pizzas = ['cheese', 'pepperoni', 'margherita', 'hawaiian', 'italian sausage', 'green peppers and onions']"
   ]
  },
  {
   "cell_type": "code",
   "execution_count": null,
   "metadata": {
    "deletable": false,
    "editable": false,
    "nbgrader": {
     "cell_type": "code",
     "checksum": "5a918f43bbfb763ae9c5b01c7b305d21",
     "grade": true,
     "grade_id": "1-a",
     "locked": true,
     "points": 20,
     "schema_version": 3,
     "solution": false,
     "task": false
    }
   },
   "outputs": [],
   "source": []
  },
  {
   "cell_type": "markdown",
   "metadata": {},
   "source": [
    "b) Using `for` statements, the string method called `capitalize` and the method of lists called `append`, append in the list `pizzas_cap` the capitalized version of each element in the `pizzas` list, and print the list `pizzas_cap`."
   ]
  },
  {
   "cell_type": "code",
   "execution_count": 24,
   "metadata": {
    "deletable": false,
    "nbgrader": {
     "cell_type": "code",
     "checksum": "145663e4f17c46183d581c8821d85485",
     "grade": false,
     "grade_id": "cell-6577d0cf67357f5e",
     "locked": false,
     "schema_version": 3,
     "solution": true,
     "task": false
    }
   },
   "outputs": [
    {
     "name": "stdout",
     "output_type": "stream",
     "text": [
      "['Cheese', 'Pepperoni', 'Margherita', 'Hawaiian', 'Italian sausage', 'Green peppers and onions']\n"
     ]
    }
   ],
   "source": [
    "pizzas_cap = []\n",
    "\n",
    "# YOUR CODE HERE\n",
    "for i in pizzas:\n",
    "    i = i.capitalize()\n",
    "    pizzas_cap.append(i)\n",
    "\n",
    "print(pizzas_cap)"
   ]
  },
  {
   "cell_type": "code",
   "execution_count": null,
   "metadata": {
    "deletable": false,
    "editable": false,
    "nbgrader": {
     "cell_type": "code",
     "checksum": "085e9b07a4e54b2f001576f681d99deb",
     "grade": true,
     "grade_id": "1-b",
     "locked": true,
     "points": 20,
     "schema_version": 3,
     "solution": false,
     "task": false
    }
   },
   "outputs": [],
   "source": []
  },
  {
   "cell_type": "markdown",
   "metadata": {},
   "source": [
    "c) Using for statements, the string method called `find` and the method of lists called `append`, append in the list `loc_e` the index of the first `'e'` that appears in each element in the `pizzas` list, and print the list `loc_e`.\n",
    "\n",
    "*Note*: The `find` method will return -1 if element is not found."
   ]
  },
  {
   "cell_type": "code",
   "execution_count": 5,
   "metadata": {
    "deletable": false,
    "nbgrader": {
     "cell_type": "code",
     "checksum": "cb91a1ea7a66f687049049664e4f8aee",
     "grade": false,
     "grade_id": "cell-c35dbf235de6a410",
     "locked": false,
     "schema_version": 3,
     "solution": true,
     "task": false
    }
   },
   "outputs": [
    {
     "name": "stdout",
     "output_type": "stream",
     "text": [
      "[2, 1, 5, -1, 14, 2]\n"
     ]
    }
   ],
   "source": [
    "loc_e = []\n",
    "\n",
    "# YOUR CODE HERE\n",
    "pizzas = ['cheese', 'pepperoni', 'margherita', 'hawaiian', 'italian sausage', 'green peppers and onions']\n",
    "\n",
    "for i, curr in enumerate(pizzas):\n",
    "    curr = pizzas[i]\n",
    "    loc_e.append(curr.find('e'))\n",
    "\n",
    "print(loc_e)"
   ]
  },
  {
   "cell_type": "code",
   "execution_count": null,
   "metadata": {
    "deletable": false,
    "editable": false,
    "nbgrader": {
     "cell_type": "code",
     "checksum": "682eaab6ec919529656d4eb9ff894cbf",
     "grade": true,
     "grade_id": "1-c",
     "locked": true,
     "points": 20,
     "schema_version": 3,
     "solution": false,
     "task": false
    }
   },
   "outputs": [],
   "source": []
  },
  {
   "cell_type": "markdown",
   "metadata": {},
   "source": [
    "## Exercise 2"
   ]
  },
  {
   "cell_type": "markdown",
   "metadata": {},
   "source": [
    "In this exercise, you will combine slicing with `for` statements.\n",
    "\n",
    "Given the following list:"
   ]
  },
  {
   "cell_type": "markdown",
   "metadata": {},
   "source": [
    "### Exercise 3"
   ]
  },
  {
   "cell_type": "code",
   "execution_count": 6,
   "metadata": {
    "deletable": false,
    "editable": false,
    "nbgrader": {
     "cell_type": "code",
     "checksum": "1e8f56d7b3142734a8765e2c8bfed0de",
     "grade": false,
     "grade_id": "cell-615fe17d21c3067e",
     "locked": true,
     "schema_version": 3,
     "solution": false,
     "task": false
    }
   },
   "outputs": [],
   "source": [
    "sports = ['Football', 'Volleyball', 'Basketball', 'Baseball', 'Handball', 'Softball']"
   ]
  },
  {
   "cell_type": "markdown",
   "metadata": {},
   "source": [
    "a) Write some code that extracts, from each word, all the letters except 'ball' at the end of each one. Save the output in a list named `mod_sports`, and print it. "
   ]
  },
  {
   "cell_type": "code",
   "execution_count": null,
   "metadata": {
    "deletable": false,
    "editable": false,
    "nbgrader": {
     "cell_type": "code",
     "checksum": "51e813bb4175b77592657fa3c55b47d3",
     "grade": true,
     "grade_id": "2-a",
     "locked": true,
     "points": 20,
     "schema_version": 3,
     "solution": false,
     "task": false
    }
   },
   "outputs": [],
   "source": []
  },
  {
   "cell_type": "code",
   "execution_count": 30,
   "metadata": {
    "deletable": false,
    "nbgrader": {
     "cell_type": "code",
     "checksum": "925dd3a461713e875268d3e4d14d7486",
     "grade": false,
     "grade_id": "cell-6c2d8a253773a6ae",
     "locked": false,
     "schema_version": 3,
     "solution": true,
     "task": false
    }
   },
   "outputs": [
    {
     "name": "stdout",
     "output_type": "stream",
     "text": [
      "['Foot', 'Volley', 'Basket', 'Base', 'Hand', 'Soft']\n"
     ]
    }
   ],
   "source": [
    "mod_sports = []\n",
    "\n",
    "# YOUR CODE HERE\n",
    "mod_sports = [sport[0:len(sport)-4] for sport in sports]\n",
    "    \n",
    "print(mod_sports)"
   ]
  },
  {
   "cell_type": "markdown",
   "metadata": {},
   "source": [
    "a) Using `for` and `if` statements.\n",
    "\n",
    "Populate a list called `numbers` that will go from 0 up to 100 where, if the number is divisible by 3 and 5, you replace it by the word \"FizzBuzz\"; if the number is divisible by 3, you replace it by \"Fizz\"; and if the number is divisible by 5, you replace it by \"Buzz\". All the remaining numbers should remain as numbers.   \n",
    "\n",
    "Note: You have to use `for` statements and `if` statements together.\n",
    "\n",
    "Tips: \n",
    "\n",
    "* Look into the `%` operator.\n",
    "* To check if something is equal to 0, remember you need to use the `==` comparison operator.\n",
    "\n",
    "*Note*: After you finish, you can use the `print` statement to check your `numbers` list."
   ]
  },
  {
   "cell_type": "code",
   "execution_count": 8,
   "metadata": {
    "deletable": false,
    "nbgrader": {
     "cell_type": "code",
     "checksum": "14591a752bfe593931429bba3d9efe4b",
     "grade": false,
     "grade_id": "cell-65ce20fae1f644b8",
     "locked": false,
     "schema_version": 3,
     "solution": true,
     "task": false
    }
   },
   "outputs": [
    {
     "name": "stdout",
     "output_type": "stream",
     "text": [
      "['FizzBuzz', 1, 2, 'FizzBuzz', 'FizzBuzz', 'FizzBuzz', 'FizzBuzz', 'FizzBuzz', 8, 'FizzBuzz', 'FizzBuzz', 'FizzBuzz', 'FizzBuzz', 13, 'FizzBuzz', 'FizzBuzz', 16, 17, 'FizzBuzz', 'FizzBuzz', 'FizzBuzz', 'FizzBuzz', 'FizzBuzz', 23, 'FizzBuzz', 'FizzBuzz', 'FizzBuzz', 'FizzBuzz', 28, 'FizzBuzz', 'FizzBuzz', 31, 32, 'FizzBuzz', 'FizzBuzz', 'FizzBuzz', 'FizzBuzz', 'FizzBuzz', 38, 'FizzBuzz', 'FizzBuzz', 'FizzBuzz', 'FizzBuzz', 43, 'FizzBuzz', 'FizzBuzz', 46, 47, 'FizzBuzz', 'FizzBuzz', 'FizzBuzz', 'FizzBuzz', 'FizzBuzz', 53, 'FizzBuzz', 'FizzBuzz', 'FizzBuzz', 'FizzBuzz', 58, 'FizzBuzz', 'FizzBuzz', 61, 62, 'FizzBuzz', 'FizzBuzz', 'FizzBuzz', 'FizzBuzz', 'FizzBuzz', 68, 'FizzBuzz', 'FizzBuzz', 'FizzBuzz', 'FizzBuzz', 73, 'FizzBuzz', 'FizzBuzz', 76, 77, 'FizzBuzz', 'FizzBuzz', 'FizzBuzz', 'FizzBuzz', 'FizzBuzz', 83, 'FizzBuzz', 'FizzBuzz', 'FizzBuzz', 'FizzBuzz', 88, 'FizzBuzz', 'FizzBuzz', 91, 92, 'FizzBuzz', 'FizzBuzz', 'FizzBuzz', 'FizzBuzz', 'FizzBuzz', 98, 'FizzBuzz', 'FizzBuzz']\n"
     ]
    }
   ],
   "source": [
    "numbers = []\n",
    "# YOUR CODE HERE\n",
    "for num in range(0,101):\n",
    "    numbers.append(num)\n",
    "\n",
    "for num in numbers:\n",
    "    if num%3 == 0:\n",
    "            numbers[num] = 'Fizz'\n",
    "    if num%5 == 0:\n",
    "            numbers[num] = 'Buzz'\n",
    "    if num%5 & num%3 == 0:\n",
    "            numbers[num] = 'FizzBuzz'\n",
    "print(numbers)"
   ]
  },
  {
   "cell_type": "code",
   "execution_count": null,
   "metadata": {
    "deletable": false,
    "editable": false,
    "nbgrader": {
     "cell_type": "code",
     "checksum": "56dd89306df4b247a3133827127329c8",
     "grade": true,
     "grade_id": "3-a",
     "locked": true,
     "points": 20,
     "schema_version": 3,
     "solution": false,
     "task": false
    }
   },
   "outputs": [],
   "source": []
  },
  {
   "cell_type": "markdown",
   "metadata": {},
   "source": [
    "## Remember!!\n",
    "\n",
    "Before you turn this problem in, make sure everything runs as expected. First, restart the kernel (in the menubar, select Kernel→→Restart) and then run all cells (in the menubar, select Cell→→Run All).\n",
    "\n",
    "Make sure you filled in any place that says YOUR CODE HERE or \"YOUR ANSWER HERE\", as well as your name at the beggining of the notebook.\n"
   ]
  },
  {
   "cell_type": "code",
   "execution_count": null,
   "metadata": {},
   "outputs": [],
   "source": []
  }
 ],
 "metadata": {
  "kernelspec": {
   "display_name": "Python 3 (ipykernel)",
   "language": "python",
   "name": "python3"
  },
  "language_info": {
   "codemirror_mode": {
    "name": "ipython",
    "version": 3
   },
   "file_extension": ".py",
   "mimetype": "text/x-python",
   "name": "python",
   "nbconvert_exporter": "python",
   "pygments_lexer": "ipython3",
   "version": "3.9.7"
  }
 },
 "nbformat": 4,
 "nbformat_minor": 2
}
